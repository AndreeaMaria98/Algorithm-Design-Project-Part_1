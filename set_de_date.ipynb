{
  "nbformat": 4,
  "nbformat_minor": 0,
  "metadata": {
    "colab": {
      "provenance": [],
      "authorship_tag": "ABX9TyOawYtWPyq0efkPG3z29Wcg",
      "include_colab_link": true
    },
    "kernelspec": {
      "name": "python3",
      "display_name": "Python 3"
    },
    "language_info": {
      "name": "python"
    }
  },
  "cells": [
    {
      "cell_type": "markdown",
      "metadata": {
        "id": "view-in-github",
        "colab_type": "text"
      },
      "source": [
        "<a href=\"https://colab.research.google.com/github/AndreeaMaria98/Algorithm-Design-Project-Part_1/blob/master/set_de_date.ipynb\" target=\"_parent\"><img src=\"https://colab.research.google.com/assets/colab-badge.svg\" alt=\"Open In Colab\"/></a>"
      ]
    },
    {
      "cell_type": "code",
      "source": [
        "import pandas as pd"
      ],
      "metadata": {
        "id": "1W09yyHx--ca"
      },
      "execution_count": 1,
      "outputs": []
    },
    {
      "cell_type": "code",
      "source": [
        "import spacy"
      ],
      "metadata": {
        "id": "ajwPlegPSldg"
      },
      "execution_count": 2,
      "outputs": []
    },
    {
      "cell_type": "code",
      "source": [
        "# Încărcați setul de date din fișierul CSV\n",
        "df = pd.read_csv('set_de_date.csv')"
      ],
      "metadata": {
        "id": "fe_mNHI5_RjD"
      },
      "execution_count": 13,
      "outputs": []
    },
    {
      "cell_type": "code",
      "source": [
        "!python -m spacy download ro_core_news_md\n",
        "# !python -m spacy download ro_core_news_sm"
      ],
      "metadata": {
        "id": "yTcsisPiUvAk"
      },
      "execution_count": null,
      "outputs": []
    },
    {
      "cell_type": "code",
      "source": [
        "# Încărcarea modelului NLP (de exemplu, spaCy)\n",
        "# nlp = spacy.load(\"ro_core_news_sm\")\n",
        "nlp = spacy.load(\"ro_core_news_md\", disable=[\"parser\", \"ner\"])"
      ],
      "metadata": {
        "id": "qWgpAbWlL6XV"
      },
      "execution_count": 12,
      "outputs": []
    },
    {
      "cell_type": "code",
      "execution_count": 14,
      "metadata": {
        "id": "wZboS4lLHnvb"
      },
      "outputs": [],
      "source": [
        "# Funcție pentru extragerea cuvintelor cheie din întrebare\n",
        "def extract_keywords(question):\n",
        "    doc = nlp(question)\n",
        "    keywords = []\n",
        "    for token in doc:\n",
        "        keywords.append(token.text.lower())\n",
        "    return keywords\n",
        "\n",
        "def remove_punctuation_and_pos(text):\n",
        "    doc = nlp(text)\n",
        "    tokens = []\n",
        "    for token in doc:\n",
        "        if token.pos_ not in [\"PUNCT\", \"AUX\", \"PRON\"]:\n",
        "            tokens.append(token.text)\n",
        "    return \" \".join(tokens)\n",
        "\n",
        "# Funcție pentru căutarea răspunsului în setul de date\n",
        "def cauta_raspuns(intrebare, df):\n",
        "    intrebare = remove_punctuation_and_pos(intrebare)\n",
        "    keywords = extract_keywords(intrebare)\n",
        "\n",
        "    # Calculați similaritatea între cuvintele cheie din întrebare și cuvintele cheie din setul de date\n",
        "    df['similarity'] = df['intrebare'].apply(lambda x: nlp(x).similarity(nlp(intrebare)))\n",
        "\n",
        "    # Sortați setul de date după similaritate în ordine descrescătoare\n",
        "    df = df.sort_values(by='similarity', ascending=False)\n",
        "\n",
        "    # print(df)\n",
        "    # Alegeți răspunsul cu cea mai mare similaritate\n",
        "    if df['similarity'].iloc[0] > 0.7:\n",
        "        link = df['link'].iloc[0]\n",
        "        eticheta = df['eticheta'].iloc[0]\n",
        "        return link, eticheta\n",
        "    else:\n",
        "        return None, None"
      ]
    },
    {
      "cell_type": "code",
      "source": [
        "# Exemplu de întrebare\n",
        "intrebare = \"OSACE\"\n",
        "\n",
        "# Căutați răspunsul în setul de date\n",
        "link, eticheta = cauta_raspuns(intrebare, df)\n",
        "\n",
        "# Afișați răspunsul\n",
        "if link and eticheta:\n",
        "    print(\"Răspuns:\")\n",
        "    print(\"Link:\", link)\n",
        "    print(\"Etichetă:\", eticheta)\n",
        "else:\n",
        "    print(\"Nu s-a găsit un răspuns pentru întrebare.\")"
      ],
      "metadata": {
        "colab": {
          "base_uri": "https://localhost:8080/"
        },
        "id": "GRmCmNQ1R5X4",
        "outputId": "e9efe2b4-c63f-4c91-8f81-02db310be1f3"
      },
      "execution_count": 17,
      "outputs": [
        {
          "output_type": "stream",
          "name": "stderr",
          "text": [
            "<ipython-input-14-73cbcfb05d87>:23: UserWarning: [W008] Evaluating Doc.similarity based on empty vectors.\n",
            "  df['similarity'] = df['intrebare'].apply(lambda x: nlp(x).similarity(nlp(intrebare)))\n"
          ]
        },
        {
          "output_type": "stream",
          "name": "stdout",
          "text": [
            "Răspuns:\n",
            "Link: /comunitate/studenti/organizatii_studentesti.php\n",
            "Etichetă: organizatii\n"
          ]
        }
      ]
    }
  ]
}